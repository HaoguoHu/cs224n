{
 "cells": [
  {
   "cell_type": "code",
   "execution_count": 1,
   "metadata": {},
   "outputs": [
    {
     "name": "stdout",
     "output_type": "stream",
     "text": [
      "<class 'list'> 5\n",
      "src_word2id\n",
      "tgt_word2id\n"
     ]
    }
   ],
   "source": [
    "import json\n",
    "from vocab import Vocab, VocabEntry\n",
    "from pprint import pprint\n",
    "def read_corpus(file_path, source):\n",
    "    \"\"\" Read file, where each sentence is dilineated by a `\\n`.\n",
    "    @param file_path (str): path to file containing corpus\n",
    "    @param source (str): \"tgt\" or \"src\" indicating whether text\n",
    "        is of the source language or target language\n",
    "    \"\"\"\n",
    "    data = []\n",
    "    for line in open(file_path):\n",
    "        sent = line.strip().split(' ')\n",
    "        # only append <s> and </s> to the target sentence\n",
    "        if source == 'tgt':\n",
    "            sent = ['<s>'] + sent + ['</s>']\n",
    "        data.append(sent)\n",
    "\n",
    "    return data\n",
    "\n",
    "def load(file_path):\n",
    "    \"\"\" Load vocabulary from JSON dump.\n",
    "    @param file_path (str): file path to vocab file\n",
    "    @returns Vocab object loaded from JSON dump\n",
    "    \"\"\"\n",
    "    entry = json.load(open(file_path, 'r'))\n",
    "    src_word2id = entry['src_word2id']\n",
    "    tgt_word2id = entry['tgt_word2id']\n",
    "\n",
    "    return Vocab(VocabEntry(src_word2id), VocabEntry(tgt_word2id))\n",
    "    \n",
    "data=read_corpus('./FordGT.txt','sr')\n",
    "print(type(data),len(data))\n",
    " \n",
    "voc = load(\"vocab.json\")\n",
    "#pprint(type(voc))\n",
    "#print(type(voc.src))\n",
    "\n",
    "#voc.src[4]\n",
    "\n",
    "entry = json.load(open(\"vocab.json\", 'r'))\n",
    "for item in entry:\n",
    "    print(item)"
   ]
  },
  {
   "cell_type": "code",
   "execution_count": 2,
   "metadata": {},
   "outputs": [
    {
     "name": "stdout",
     "output_type": "stream",
     "text": [
      "name\n",
      "age\n",
      "city\n"
     ]
    }
   ],
   "source": [
    "import json\n",
    "\n",
    "# some JSON:\n",
    "x =  '{ \"name\":\"John\", \"age\":30, \"city\":\"New York\"}'\n",
    "\n",
    "# parse x:\n",
    "y = json.loads(x)\n",
    "\n",
    "for item  in y:\n",
    "    print(item )"
   ]
  },
  {
   "cell_type": "code",
   "execution_count": 3,
   "metadata": {},
   "outputs": [
    {
     "name": "stdout",
     "output_type": "stream",
     "text": [
      "a\n",
      "c\n"
     ]
    }
   ],
   "source": [
    "class A(object):\n",
    "    def __init__(self):\n",
    "        print('a')\n",
    "\n",
    "class B(object):\n",
    "    def __init__(self):\n",
    "        print('b')\n",
    "\n",
    "class C(A,B):\n",
    "    def __init__(self):\n",
    "        super(C,self).__init__()\n",
    "        print('c')\n",
    "\n",
    "my = C()"
   ]
  },
  {
   "cell_type": "code",
   "execution_count": 4,
   "metadata": {},
   "outputs": [],
   "source": [
    "class P:\n",
    "\n",
    "    def __init__(self,x):\n",
    "        self.set_x(x)\n",
    "\n",
    "    def get_x(self):\n",
    "        return self.__x\n",
    "\n",
    "    def set_x(self, x):\n",
    "        if x < 0:\n",
    "            self.__x = 0\n",
    "        elif x > 1000:\n",
    "            self.__x = 1000\n",
    "        else:\n",
    "            self.__x = x"
   ]
  },
  {
   "cell_type": "code",
   "execution_count": 5,
   "metadata": {},
   "outputs": [
    {
     "name": "stdout",
     "output_type": "stream",
     "text": [
      "10\n"
     ]
    }
   ],
   "source": [
    "class OurClass:\n",
    "\n",
    "    def __init__(self, a):\n",
    "        self.OurAtt = a\n",
    "\n",
    "    @property\n",
    "    def OurAtt(self):\n",
    "        return self.__OurAtt\n",
    "\n",
    "    @OurAtt.setter\n",
    "    def OurAtt(self, val):\n",
    "        if val < 0:\n",
    "            self.__OurAtt = 0\n",
    "        elif val > 1000:\n",
    "            self.__OurAtt = 1000\n",
    "        else:\n",
    "            self.__OurAtt = val\n",
    "\n",
    "\n",
    "x = OurClass(10)\n",
    "print(x.OurAtt)"
   ]
  },
  {
   "cell_type": "code",
   "execution_count": 6,
   "metadata": {},
   "outputs": [
    {
     "name": "stdout",
     "output_type": "stream",
     "text": [
      "Running Sanity Check for Question 1d: Encode\n",
      "--------------------------------------------------------------------------------\n",
      "enc_hiddens Sanity Checks Passed!\n",
      "dec_init_state[0] Sanity Checks Passed!\n",
      "dec_init_state[1] Sanity Checks Passed!\n",
      "--------------------------------------------------------------------------------\n",
      "All Sanity Checks Passed for Question 1d: Encode!\n",
      "--------------------------------------------------------------------------------\n"
     ]
    }
   ],
   "source": [
    "!python sanity_check.py 1d "
   ]
  },
  {
   "cell_type": "code",
   "execution_count": 7,
   "metadata": {},
   "outputs": [
    {
     "name": "stdout",
     "output_type": "stream",
     "text": [
      "read in source sentences: ./en_es_data/train.es\n",
      "read in target sentences: ./en_es_data/train.en\n",
      "initialize source vocabulary ..\n",
      "number of word types: 172418, number of word types w/ frequency >= 2: 80623\n",
      "initialize target vocabulary ..\n",
      "number of word types: 128873, number of word types w/ frequency >= 2: 64215\n",
      "generated vocabulary, source 50004 words, target 50002 words\n",
      "vocabulary saved to vocab.json\n"
     ]
    }
   ],
   "source": [
    "!sh run.sh vocab     ###If not working,  try \"conda install posix\""
   ]
  },
  {
   "cell_type": "code",
   "execution_count": null,
   "metadata": {},
   "outputs": [],
   "source": [
    "!sh run.sh train"
   ]
  }
 ],
 "metadata": {
  "kernelspec": {
   "display_name": "Python 3",
   "language": "python",
   "name": "python3"
  },
  "language_info": {
   "codemirror_mode": {
    "name": "ipython",
    "version": 3
   },
   "file_extension": ".py",
   "mimetype": "text/x-python",
   "name": "python",
   "nbconvert_exporter": "python",
   "pygments_lexer": "ipython3",
   "version": "3.7.3"
  }
 },
 "nbformat": 4,
 "nbformat_minor": 2
}
